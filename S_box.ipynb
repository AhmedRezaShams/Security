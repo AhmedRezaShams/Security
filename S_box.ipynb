{
  "nbformat": 4,
  "nbformat_minor": 0,
  "metadata": {
    "colab": {
      "provenance": [],
      "authorship_tag": "ABX9TyPjONdsCpE2jsFPg+xyssIh",
      "include_colab_link": true
    },
    "kernelspec": {
      "name": "python3",
      "display_name": "Python 3"
    },
    "language_info": {
      "name": "python"
    }
  },
  "cells": [
    {
      "cell_type": "markdown",
      "metadata": {
        "id": "view-in-github",
        "colab_type": "text"
      },
      "source": [
        "<a href=\"https://colab.research.google.com/github/AhmedRezaShams/Security/blob/main/S_box.ipynb\" target=\"_parent\"><img src=\"https://colab.research.google.com/assets/colab-badge.svg\" alt=\"Open In Colab\"/></a>"
      ]
    },
    {
      "cell_type": "code",
      "execution_count": null,
      "metadata": {
        "colab": {
          "base_uri": "https://localhost:8080/"
        },
        "id": "PD1yGn_ly5tC",
        "outputId": "ec6c6f76-d063-4cfc-ddb9-10e9ed3f4cae"
      },
      "outputs": [
        {
          "output_type": "stream",
          "name": "stdout",
          "text": [
            "Enter the number: 12\n",
            "12  In binary form:001100\n",
            "s[ 0 ] [ 6 ]\n",
            "11\n"
          ]
        }
      ],
      "source": [
        "s_box = [\n",
        "    [14, 4, 13, 1, 2, 15, 11, 8, 3, 10, 6, 12, 5, 9, 0, 7],\n",
        "    [0, 15, 7, 4, 14, 2, 13, 1, 10, 6, 12, 11, 9, 5, 3, 8],\n",
        "    [4, 1, 14, 8, 13, 6, 2, 11, 15, 12, 9, 7, 3, 10, 5, 0],\n",
        "    [15, 12, 8, 2, 4, 9, 1, 7, 5, 11, 3, 14, 10, 0, 6, 13]\n",
        "]\n",
        "\n",
        "def substitute(decimal_input):\n",
        "    input_bits = format(decimal_input, '06b')  \n",
        "    print(decimal_input,\" In binary form:\" +input_bits)\n",
        "    row = int(input_bits[0] + input_bits[5],2)  \n",
        "    col = int(input_bits[1:5], 2)\n",
        "    output_bits = s_box[row][col]\n",
        "    print(\"s[\",row,\"]\",\"[\",col,\"]\")\n",
        "    return output_bits\n",
        "    \n",
        "decimal_input = int(input(\"Enter the number: \"))\n",
        "output_decimal = substitute(decimal_input)\n",
        "print(output_decimal)  "
      ]
    }
  ]
}