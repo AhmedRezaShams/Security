{
  "nbformat": 4,
  "nbformat_minor": 0,
  "metadata": {
    "colab": {
      "provenance": [],
      "authorship_tag": "ABX9TyMw2TcWb0lP5tYKp2QtZz+K",
      "include_colab_link": true
    },
    "kernelspec": {
      "name": "python3",
      "display_name": "Python 3"
    },
    "language_info": {
      "name": "python"
    }
  },
  "cells": [
    {
      "cell_type": "markdown",
      "metadata": {
        "id": "view-in-github",
        "colab_type": "text"
      },
      "source": [
        "<a href=\"https://colab.research.google.com/github/AhmedRezaShams/Security/blob/main/monoalphabetic.ipynb\" target=\"_parent\"><img src=\"https://colab.research.google.com/assets/colab-badge.svg\" alt=\"Open In Colab\"/></a>"
      ]
    },
    {
      "cell_type": "code",
      "execution_count": null,
      "metadata": {
        "colab": {
          "base_uri": "https://localhost:8080/"
        },
        "id": "YNgCpb5M198Z",
        "outputId": "a4460099-5b2d-44d7-eed6-35f09df9db36"
      },
      "outputs": [
        {
          "output_type": "stream",
          "name": "stdout",
          "text": [
            "Enter the plaintext message: asd\n",
            "Message will sent: bql\n",
            "Message will get: asd\n"
          ]
        }
      ],
      "source": [
        "import random\n",
        "\n",
        "alphabet = 'abcdefghijklmnopqrstuvwxyz'\n",
        "\n",
        "key = list(alphabet)\n",
        "random.shuffle(key)\n",
        "key = ''.join(key)\n",
        "\n",
        "def encrypt(plaintext):\n",
        "    ciphertext = ''\n",
        "    for letter in plaintext:\n",
        "        if letter.lower() in alphabet:\n",
        "            index = alphabet.index(letter.lower())\n",
        "            if letter.isupper():\n",
        "                ciphertext += key[index].upper()\n",
        "            else:\n",
        "                ciphertext += key[index]\n",
        "        else:\n",
        "            ciphertext += letter\n",
        "    return ciphertext\n",
        "\n",
        "def decrypt(ciphertext):\n",
        "    plaintext = ''\n",
        "    for letter in ciphertext:\n",
        "        if letter.lower() in alphabet:\n",
        "            index = key.index(letter.lower())\n",
        "            if letter.isupper():\n",
        "                plaintext += alphabet[index].upper()\n",
        "            else:\n",
        "                plaintext += alphabet[index]\n",
        "        else:\n",
        "            plaintext += letter\n",
        "    return plaintext\n",
        "\n",
        "plaintext = input(\"Enter the plaintext message: \")\n",
        "ciphertext = encrypt(plaintext)\n",
        "print(\"Message will sent: \"+ciphertext)\n",
        "decrypted_text = decrypt(ciphertext)\n",
        "print(\"Message will get: \"+decrypted_text)"
      ]
    }
  ]
}